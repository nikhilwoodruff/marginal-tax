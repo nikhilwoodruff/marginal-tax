{
 "metadata": {
  "language_info": {
   "codemirror_mode": {
    "name": "ipython",
    "version": 3
   },
   "file_extension": ".py",
   "mimetype": "text/x-python",
   "name": "python",
   "nbconvert_exporter": "python",
   "pygments_lexer": "ipython3",
   "version": 3
  },
  "orig_nbformat": 2,
  "kernelspec": {
   "name": "python_defaultSpec_1597231509175",
   "display_name": "Python 3.8.2 64-bit"
  }
 },
 "nbformat": 4,
 "nbformat_minor": 2,
 "cells": [
  {
   "cell_type": "markdown",
   "metadata": {},
   "source": [
    "Add imports and test data (1 million incomes between £0 and £300k, so in full range of tax bands)"
   ]
  },
  {
   "cell_type": "code",
   "execution_count": 25,
   "metadata": {},
   "outputs": [],
   "source": [
    "import numpy as np\n",
    "import pandas as pd\n",
    "from timeit import timeit\n",
    "\n",
    "test_data = np.random.rand(1000000) * 300000"
   ]
  },
  {
   "cell_type": "markdown",
   "metadata": {},
   "source": [
    "Add the Pandas function"
   ]
  },
  {
   "cell_type": "code",
   "execution_count": 26,
   "metadata": {},
   "outputs": [],
   "source": [
    "def test0():\n",
    "    brackets = np.array([0, 12500, 50000, 150000])\n",
    "    rates = np.array([0, 0.2, 0.4, 0.45])\n",
    "\n",
    "    def income_tax(income, brackets, rates):\n",
    "        df_tax = pd.DataFrame({'brackets': brackets, 'rates': rates})\n",
    "        df_tax['base_tax'] = df_tax.brackets.\\\n",
    "            sub(df_tax.brackets.shift(fill_value=0)).\\\n",
    "            mul(df_tax.rates.shift(fill_value=0)).cumsum()\n",
    "        rows = df_tax.brackets.searchsorted(income, side='right') - 1\n",
    "        income_bracket_df = df_tax.loc[rows].reset_index(drop=True)\n",
    "        return pd.Series(income).sub(income_bracket_df.brackets).\\\n",
    "            mul(income_bracket_df.rates).add(income_bracket_df.base_tax)\n",
    "    \n",
    "    income_tax(test_data, brackets, rates)"
   ]
  },
  {
   "cell_type": "markdown",
   "metadata": {},
   "source": [
    "Add the NumPy function"
   ]
  },
  {
   "cell_type": "code",
   "execution_count": 27,
   "metadata": {},
   "outputs": [],
   "source": [
    "def test1():\n",
    "    bands = np.array([0, 12500, 50000, 150000])\n",
    "    rates = np.array([0, 0.2, 0.4, 0.45])\n",
    "\n",
    "    def tax(incomes, bands, rates):\n",
    "        bands = np.append(bands, np.inf)\n",
    "        incomes_ = np.broadcast_to(incomes, (bands.shape[0] - 1, incomes.shape[0]))\n",
    "        amounts_in_bands = np.clip(incomes_.transpose(), bands[:-1], bands[1:]) - bands[:-1]\n",
    "        taxes = rates * amounts_in_bands\n",
    "        total_taxes = taxes.sum(axis=1)\n",
    "        return total_taxes\n",
    "    \n",
    "    tax(test_data, bands, rates)"
   ]
  },
  {
   "cell_type": "markdown",
   "metadata": {},
   "source": [
    "Record percent time taken change"
   ]
  },
  {
   "cell_type": "code",
   "execution_count": 28,
   "metadata": {
    "tags": []
   },
   "outputs": [
    {
     "output_type": "stream",
     "name": "stdout",
     "text": "NumPy method changes time taken by -0.12%.\n"
    }
   ],
   "source": [
    "time0 = timeit(test0, number=10)\n",
    "time1 = timeit(test1, number=10)\n",
    "speed_percent_change = (time1 - time0) / time0\n",
    "print(f'NumPy method changes time taken by {speed_percent_change * 100:.2f}%.')"
   ]
  }
 ]
}